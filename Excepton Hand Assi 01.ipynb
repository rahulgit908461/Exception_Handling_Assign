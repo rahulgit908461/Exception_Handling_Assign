{
 "cells": [
  {
   "cell_type": "code",
   "execution_count": 16,
   "id": "dc89e57c-0396-48be-b4f5-b75d3a9ba489",
   "metadata": {},
   "outputs": [],
   "source": [
    "#Q1. What is Exception in python? Write the diffrence b/w Eception and syntax Error."
   ]
  },
  {
   "cell_type": "code",
   "execution_count": 17,
   "id": "92e450a5-d545-473a-af2c-557383277244",
   "metadata": {},
   "outputs": [],
   "source": [
    "#An exception is an event, which occurs during the execution of a program that disrupts the normal flow of the\n",
    "#program's instructions.\n",
    "#Errors mostly happen at compile-time like syntax error; however it can happen at runtime as well. Whereas an\n",
    "#Exception occurs at runtime"
   ]
  },
  {
   "cell_type": "code",
   "execution_count": 19,
   "id": "d26c70c1-a8e8-4a6a-b553-437db37273bf",
   "metadata": {},
   "outputs": [],
   "source": [
    "#Q2. What happens when an exception in not handled ? Explain with an examples."
   ]
  },
  {
   "cell_type": "code",
   "execution_count": 21,
   "id": "390a166b-f524-4137-b87e-1120f838ba2e",
   "metadata": {},
   "outputs": [],
   "source": [
    "#If an exception is not caught (with a catch block), the runtime system will abort the program (i.e. crash) and an \n",
    "#exception message will print to the console.\n",
    "\n",
    "#Example. When an exception is thrown in the try block, the execution immediately passes to the finally block.\n",
    "#After all the statements in the finally block are executed, the exception is raised again and is handled in the \n",
    "#except statements if present in the next higher layer of the try-except statement."
   ]
  },
  {
   "cell_type": "code",
   "execution_count": 22,
   "id": "d7d616c9-7756-4f6d-a2bd-a088a15e6d16",
   "metadata": {},
   "outputs": [],
   "source": [
    "#Q3. Which python statements are used to catch and handle exception? Explain with an exaple."
   ]
  },
  {
   "cell_type": "code",
   "execution_count": 23,
   "id": "2c56a5ee-d2e2-42ba-ab07-f40ce8ef068b",
   "metadata": {},
   "outputs": [],
   "source": [
    "#The try and except block in Python is used to catch and handle exceptions. Python executes code following the try\n",
    "#statement as a “normal” part of the program. The code that follows the except statement is the program's response\n",
    "#to any exceptions in the preceding try clause.\n",
    "\n",
    "#Handling an exception\n",
    "#A single try statement can have multiple except statements. ...\n",
    "#You can also provide a generic except clause, which handles any exception.\n",
    "#After the except clause(s), you can include an else-clause. ...\n",
    "#The else-block is a good place for code that does not need the try: block's protection"
   ]
  },
  {
   "cell_type": "code",
   "execution_count": 25,
   "id": "e7935c13-935d-4d80-8b7d-0c0162ed057c",
   "metadata": {},
   "outputs": [],
   "source": [
    "#Q5. What are custom exception in python? why do we need custom exception? explain with an examples."
   ]
  },
  {
   "cell_type": "code",
   "execution_count": 26,
   "id": "2400084d-3731-4670-8dc0-eac3cc92f349",
   "metadata": {},
   "outputs": [],
   "source": [
    "#Sometimes based on project requirement, a programmer needs to create his own exceptions and raise explicitly for \n",
    "#corresponding scenarios. Such types of exceptions are called customized Exceptions or Programmatic Exceptions.\n",
    "#We can raise a custom exception by using the keyword 'raise'\n",
    "#Exception\t         Description\n",
    "#IndentationError\tRaised when indentation is not correct\n",
    "#IndexError\t        Raised when an index of a sequence does not exist\n",
    "#KeyError\t        Raised when a key does not exist in a dictionary\n",
    "#KeyboardInterrupt\tRaised when the user presses Ctrl+c, Ctrl+z or Delete"
   ]
  },
  {
   "cell_type": "code",
   "execution_count": 27,
   "id": "61943d24-c691-479f-b307-0bbd929f51dd",
   "metadata": {},
   "outputs": [],
   "source": [
    "#Q6. create a custom exception class. use ths class to handle an exception."
   ]
  },
  {
   "cell_type": "code",
   "execution_count": 29,
   "id": "aac9d760-6b28-4ad4-baf7-bcf0d517e349",
   "metadata": {},
   "outputs": [],
   "source": [
    "#Steps to Create a Custom Exception in Java\n",
    "#Create your own Exception Class named InvalidInputException that extends Exception Class from java. lang.\n",
    "#Create a Constructor Method with String statement as an argument. ...\n",
    "#Call super(statement) i.e. Constructor method of a superclass with a statement as input."
   ]
  },
  {
   "cell_type": "code",
   "execution_count": null,
   "id": "c5f09e9f-04e3-45f1-8010-37ef1dd2c317",
   "metadata": {},
   "outputs": [],
   "source": []
  }
 ],
 "metadata": {
  "kernelspec": {
   "display_name": "Python 3 (ipykernel)",
   "language": "python",
   "name": "python3"
  },
  "language_info": {
   "codemirror_mode": {
    "name": "ipython",
    "version": 3
   },
   "file_extension": ".py",
   "mimetype": "text/x-python",
   "name": "python",
   "nbconvert_exporter": "python",
   "pygments_lexer": "ipython3",
   "version": "3.10.8"
  }
 },
 "nbformat": 4,
 "nbformat_minor": 5
}
